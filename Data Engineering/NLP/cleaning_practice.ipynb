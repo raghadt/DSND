{
 "cells": [
  {
   "cell_type": "markdown",
   "metadata": {},
   "source": [
    "# Cleaning Quiz: Udacity's Course Catalog\n",
    "It's your turn! Udacity's [course catalog page](https://www.udacity.com/courses/all) has changed since the last video was filmed. One notable change is the introduction of  _schools_.\n",
    "\n",
    "In this activity, you're going to perform similar actions with BeautifulSoup to extract the following information from each course listing on the page:\n",
    "1. The course name - e.g. \"Data Analyst\"\n",
    "2. The school the course belongs to - e.g. \"School of Data Science\"\n",
    "\n",
    "**Note: All solution notebooks can be found by clicking on the Jupyter icon on the top left of this workspace.**"
   ]
  },
  {
   "cell_type": "markdown",
   "metadata": {},
   "source": [
    "### Step 1: Get text from Udacity's course catalog web page\n",
    "You can use the `requests` library to do this.\n",
    "\n",
    "Outputting all the javascript, CSS, and text may overload the space available to load this notebook, so we omit a print statement here."
   ]
  },
  {
   "cell_type": "code",
   "execution_count": 4,
   "metadata": {},
   "outputs": [],
   "source": [
    "# import statements\n",
    "import requests\n",
    "from bs4 import BeautifulSoup"
   ]
  },
  {
   "cell_type": "code",
   "execution_count": 3,
   "metadata": {},
   "outputs": [],
   "source": [
    "# fetch web page\n",
    "r = requests.get(\"https://www.udacity.com/courses/all\")"
   ]
  },
  {
   "cell_type": "markdown",
   "metadata": {},
   "source": [
    "### Step 2: Use BeautifulSoup to remove HTML tags\n",
    "Use `\"lxml\"` rather than `\"html5lib\"`.\n",
    "\n",
    "Again, printing this entire result may overload the space available to load this notebook, so we omit a print statement here."
   ]
  },
  {
   "cell_type": "code",
   "execution_count": 6,
   "metadata": {},
   "outputs": [],
   "source": [
    "soup =  BeautifulSoup(r.text, \"lxml\")"
   ]
  },
  {
   "cell_type": "markdown",
   "metadata": {},
   "source": [
    "### Step 3: Find all course summaries\n",
    "Use the BeautifulSoup's `find_all` method to select based on tag type and class name. Just like in the video, you can right click on the item, and click \"Inspect\" to view its html on a web page."
   ]
  },
  {
   "cell_type": "code",
   "execution_count": 10,
   "metadata": {},
   "outputs": [
    {
     "name": "stdout",
     "output_type": "stream",
     "text": [
      "Number of Courses: 234\n"
     ]
    }
   ],
   "source": [
    "# Find all course summaries\n",
    "summaries = soup.find_all(\"div\", {\"class\":\"course-summary-card\"})\n",
    "print('Number of Courses:', len(summaries))"
   ]
  },
  {
   "cell_type": "markdown",
   "metadata": {},
   "source": [
    "### Step 4: Inspect the first summary to find selectors for the course name and school\n",
    "Tip: `.prettify()` is a super helpful method BeautifulSoup provides to output html in a nicely indented form! Make sure to use `print()` to ensure whitespace is displayed properly."
   ]
  },
  {
   "cell_type": "code",
   "execution_count": 14,
   "metadata": {},
   "outputs": [
    {
     "name": "stdout",
     "output_type": "stream",
     "text": [
      "<div _ngcontent-sc211=\"\" class=\"course-summary-card row row-gap-medium catalog-card nanodegree-card ng-star-inserted\">\n",
      " <ir-catalog-card _ngcontent-sc211=\"\" _nghost-sc214=\"\">\n",
      "  <div _ngcontent-sc214=\"\" class=\"card-wrapper is-collapsed\">\n",
      "   <div _ngcontent-sc214=\"\" class=\"card__inner card mb-0\">\n",
      "    <div _ngcontent-sc214=\"\" class=\"card__inner--upper\">\n",
      "     <div _ngcontent-sc214=\"\" class=\"image_wrapper hidden-md-down\">\n",
      "      <a _ngcontent-sc214=\"\" href=\"/course/ux-designer-nanodegree--nd578\">\n",
      "       <!-- -->\n",
      "       <div _ngcontent-sc214=\"\" class=\"image-container ng-star-inserted\" style=\"background-image:url(https://d20vrrgs8k4bvw.cloudfront.net/images/degrees/nd578/catalog-card.jpg);\">\n",
      "        <div _ngcontent-sc214=\"\" class=\"image-overlay\">\n",
      "        </div>\n",
      "       </div>\n",
      "      </a>\n",
      "      <!-- -->\n",
      "     </div>\n",
      "     <div _ngcontent-sc214=\"\" class=\"card-content\">\n",
      "      <!-- -->\n",
      "      <span _ngcontent-sc214=\"\" class=\"tag tag--new card ng-star-inserted\">\n",
      "       New\n",
      "      </span>\n",
      "      <!-- -->\n",
      "      <div _ngcontent-sc214=\"\" class=\"category-wrapper\">\n",
      "       <span _ngcontent-sc214=\"\" class=\"mobile-icon\">\n",
      "       </span>\n",
      "       <!-- -->\n",
      "       <h4 _ngcontent-sc214=\"\" class=\"category ng-star-inserted\">\n",
      "        School of Business\n",
      "       </h4>\n",
      "      </div>\n",
      "      <h3 _ngcontent-sc214=\"\" class=\"card-heading\">\n",
      "       <a _ngcontent-sc214=\"\" class=\"capitalize\" href=\"/course/ux-designer-nanodegree--nd578\">\n",
      "        UX Designer\n",
      "       </a>\n",
      "      </h3>\n",
      "      <div _ngcontent-sc214=\"\" class=\"right-sub\">\n",
      "       <!-- -->\n",
      "       <div _ngcontent-sc214=\"\" class=\"skills ng-star-inserted\">\n",
      "        <h4 _ngcontent-sc214=\"\">\n",
      "         Skills Covered\n",
      "        </h4>\n",
      "        <span _ngcontent-sc214=\"\" class=\"truncate-content\">\n",
      "         <!-- -->\n",
      "         <span _ngcontent-sc214=\"\" class=\"ng-star-inserted\">\n",
      "          User Research,\n",
      "         </span>\n",
      "         <span _ngcontent-sc214=\"\" class=\"ng-star-inserted\">\n",
      "          User Experience,\n",
      "         </span>\n",
      "         <span _ngcontent-sc214=\"\" class=\"ng-star-inserted\">\n",
      "          Prototyping,\n",
      "         </span>\n",
      "         <span _ngcontent-sc214=\"\" class=\"ng-star-inserted\">\n",
      "          Interactive Design,\n",
      "         </span>\n",
      "         <span _ngcontent-sc214=\"\" class=\"ng-star-inserted\">\n",
      "          User Interface Design,\n",
      "         </span>\n",
      "         <span _ngcontent-sc214=\"\" class=\"ng-star-inserted\">\n",
      "          Usability Testing\n",
      "         </span>\n",
      "        </span>\n",
      "       </div>\n",
      "       <!-- -->\n",
      "       <div _ngcontent-sc214=\"\" class=\"hidden-md-up level\">\n",
      "        <span _ngcontent-sc214=\"\" class=\"course-level course-level-beginner\" classname=\"course-level course-level-beginner\">\n",
      "        </span>\n",
      "        <span _ngcontent-sc214=\"\" class=\"capitalize\">\n",
      "         beginner\n",
      "        </span>\n",
      "       </div>\n",
      "      </div>\n",
      "     </div>\n",
      "    </div>\n",
      "    <div _ngcontent-sc214=\"\" class=\"card__inner--lower hidden-sm-down\">\n",
      "     <div _ngcontent-sc214=\"\" class=\"left uppercase blue expander pointer\">\n",
      "      <!-- -->\n",
      "      <span _ngcontent-sc214=\"\" class=\"ng-star-inserted\">\n",
      "       Nanodegree Details\n",
      "      </span>\n",
      "      <!-- -->\n",
      "     </div>\n",
      "     <div _ngcontent-sc214=\"\" class=\"right\">\n",
      "      <!-- -->\n",
      "      <span _ngcontent-sc214=\"\" class=\"caption text-right level ng-star-inserted\">\n",
      "       <span _ngcontent-sc214=\"\" class=\"course-level course-level-beginner\" classname=\"course-level course-level-beginner\">\n",
      "       </span>\n",
      "       <span _ngcontent-sc214=\"\" class=\"capitalize\">\n",
      "        beginner\n",
      "       </span>\n",
      "      </span>\n",
      "     </div>\n",
      "    </div>\n",
      "   </div>\n",
      "   <div _ngcontent-sc214=\"\" class=\"card__expander\">\n",
      "    <div _ngcontent-sc214=\"\" class=\"card__expander--summary mb-1\">\n",
      "     <!-- -->\n",
      "     <span _ngcontent-sc214=\"\" class=\"ng-star-inserted\">\n",
      "      Design impactful user experiences for products in today’s digital world.\n",
      "     </span>\n",
      "    </div>\n",
      "    <hr _ngcontent-sc214=\"\"/>\n",
      "    <div _ngcontent-sc214=\"\" class=\"card__expander--details\">\n",
      "     <div _ngcontent-sc214=\"\" class=\"rating\">\n",
      "      <!-- -->\n",
      "     </div>\n",
      "     <a _ngcontent-sc214=\"\" class=\"button--primary btn\" href=\"/course/ux-designer-nanodegree--nd578\">\n",
      "      Learn More\n",
      "     </a>\n",
      "    </div>\n",
      "   </div>\n",
      "  </div>\n",
      " </ir-catalog-card>\n",
      " <!-- -->\n",
      "</div>\n",
      "\n"
     ]
    }
   ],
   "source": [
    "# print the first summary in summaries\n",
    "print(summaries[0].prettify())"
   ]
  },
  {
   "cell_type": "markdown",
   "metadata": {},
   "source": [
    "Look for selectors that contain the courses title and school name text you want to extract. Then, use the `select_one` method on the summary object to pull out the html with those selectors. Afterwards, don't forget to do some extra cleaning to isolate the names (get rid of unnecessary html), as you saw in the last video."
   ]
  },
  {
   "cell_type": "code",
   "execution_count": 17,
   "metadata": {},
   "outputs": [
    {
     "data": {
      "text/plain": [
       "'UX Designer'"
      ]
     },
     "execution_count": 17,
     "metadata": {},
     "output_type": "execute_result"
    }
   ],
   "source": [
    "# Extract course title\n",
    "summaries[0].select_one(\"h3\").get_text().strip()"
   ]
  },
  {
   "cell_type": "code",
   "execution_count": 18,
   "metadata": {},
   "outputs": [
    {
     "data": {
      "text/plain": [
       "'School of Business'"
      ]
     },
     "execution_count": 18,
     "metadata": {},
     "output_type": "execute_result"
    }
   ],
   "source": [
    "# Extract school\n",
    "summaries[0].select_one(\"h4\").get_text().strip()"
   ]
  },
  {
   "cell_type": "markdown",
   "metadata": {},
   "source": [
    "### Step 5: Collect names and schools of ALL course listings\n",
    "Reuse your code from the previous step, but now in a loop to extract the name and school from every course summary in `summaries`!"
   ]
  },
  {
   "cell_type": "code",
   "execution_count": 25,
   "metadata": {},
   "outputs": [],
   "source": [
    "courses = []\n",
    "for summary in summaries:\n",
    "    # append name and school of each summary to courses list\n",
    "    title = (summary.select_one(\"h3\").get_text().strip())\n",
    "    school = (summary.select_one(\"h4\").get_text().strip())\n",
    "    courses.append((title, school))"
   ]
  },
  {
   "cell_type": "code",
   "execution_count": 26,
   "metadata": {
    "collapsed": true
   },
   "outputs": [
    {
     "data": {
      "text/plain": [
       "[('UX Designer', 'School of Business'),\n",
       " ('Data Streaming', 'School of Data Science'),\n",
       " ('Front End Web Developer', 'School of Programming'),\n",
       " ('Full Stack Web Developer', 'School of Programming'),\n",
       " ('Java Developer', 'School of Programming'),\n",
       " ('AI Product Manager', 'School of Artificial Intelligence'),\n",
       " ('Sensor Fusion Engineer', 'School of Autonomous Systems'),\n",
       " ('Data Visualization', 'School of Data Science'),\n",
       " ('Cloud Developer', 'School of Cloud Computing'),\n",
       " ('Cloud DevOps Engineer', 'School of Cloud Computing'),\n",
       " ('Intro to Machine Learning', 'School of Artificial Intelligence'),\n",
       " ('C++', 'School of Autonomous Systems'),\n",
       " ('Data Structures and Algorithms', 'School of Programming'),\n",
       " ('Programming for Data Science with R', 'School of Data Science'),\n",
       " ('Data Engineer', 'School of Data Science'),\n",
       " ('Marketing Analytics', 'School of Business'),\n",
       " ('Introduction to Programming', 'School of Programming'),\n",
       " ('Data Analyst', 'School of Data Science'),\n",
       " ('iOS Developer', 'School of Programming'),\n",
       " ('Predictive Analytics for Business', 'School of Business'),\n",
       " ('Machine Learning Engineer', 'School of Artificial Intelligence'),\n",
       " ('Self Driving Car Engineer', 'School of Autonomous Systems'),\n",
       " ('Digital Marketing', 'School of Business'),\n",
       " ('React', 'School of Programming'),\n",
       " ('Data Scientist', 'School of Data Science'),\n",
       " ('AI Programming with Python', 'School of Artificial Intelligence'),\n",
       " ('Business Analytics', 'School of Business'),\n",
       " ('Deep Learning', 'School of Artificial Intelligence'),\n",
       " ('Programming for Data Science with Python', 'School of Data Science'),\n",
       " ('Intro to Self-Driving Cars', 'School of Autonomous Systems'),\n",
       " ('Blockchain Developer', 'School of Programming'),\n",
       " ('Robotics Software Engineer', 'School of Autonomous Systems'),\n",
       " ('Flying Car and Autonomous Flight Engineer', 'School of Autonomous Systems'),\n",
       " ('Android Developer', 'School of Programming'),\n",
       " ('Android Basics', 'School of Programming'),\n",
       " ('Artificial Intelligence for Trading', 'School of Artificial Intelligence'),\n",
       " ('Computer Vision', 'School of Artificial Intelligence'),\n",
       " ('Natural Language Processing', 'School of Artificial Intelligence'),\n",
       " ('Deep Reinforcement Learning', 'School of Artificial Intelligence'),\n",
       " ('Artificial Intelligence', 'School of Artificial Intelligence'),\n",
       " ('Self-Driving Fundamentals: Featuring Apollo',\n",
       "  'School of Autonomous Systems'),\n",
       " ('AWS DeepRacer', 'School of Artificial Intelligence'),\n",
       " ('Spark', 'School of Data Science'),\n",
       " ('Tales from the Genome', 'Skills Covered'),\n",
       " ('Design of Computer Programs', 'School of Programming'),\n",
       " ('Intro to Algorithms', 'School of Programming'),\n",
       " ('Differential Equations in Action', 'School of Autonomous Systems'),\n",
       " ('Software Testing', 'School of Programming'),\n",
       " ('Software Debugging', 'School of Programming'),\n",
       " ('Programming Languages', 'School of Programming'),\n",
       " ('Intro to Artificial Intelligence', 'School of Artificial Intelligence'),\n",
       " ('Interactive 3D Graphics', 'School of Programming'),\n",
       " ('Intro to Theoretical Computer Science', 'School of Programming'),\n",
       " ('Artificial Intelligence for Robotics', 'School of Artificial Intelligence'),\n",
       " ('Applied Cryptography', 'School of Programming'),\n",
       " ('Intro to the Design of Everyday Things', 'Skills Covered'),\n",
       " ('How to Build a Startup', 'School of Business'),\n",
       " ('OMSCS Student Orientation', 'In Collaboration With'),\n",
       " ('Intro to Physics', 'School of Programming'),\n",
       " ('Intro to Psychology', 'School of Programming'),\n",
       " ('Statistics', 'School of Programming'),\n",
       " ('Intro to Statistics', 'School of Programming'),\n",
       " ('Intro to HTML and CSS', 'School of Programming'),\n",
       " ('High Performance Computer Architecture', 'School of Programming'),\n",
       " ('Data Wrangling with MongoDB', 'School of Programming'),\n",
       " ('Firebase in a Weekend: iOS', 'School of Programming'),\n",
       " ('Firebase in a Weekend: Android', 'School of Programming'),\n",
       " ('Computability, Complexity & Algorithms', 'School of Programming'),\n",
       " ('Full Stack Foundations', 'School of Programming'),\n",
       " ('GT - Refresher - Advanced OS', 'School of Programming'),\n",
       " ('Machine Learning Interview Preparation', 'Career Advancement'),\n",
       " ('Deploying a Hadoop Cluster', 'School of Programming'),\n",
       " ('Data Visualization in Tableau', 'School of Programming'),\n",
       " ('Objective-C for Swift Developers', 'School of Programming'),\n",
       " ('Data Structures & Algorithms in Swift', 'Career Advancement'),\n",
       " ('Introduction to Virtual Reality', 'School of Programming'),\n",
       " ('VR Scenes and Objects', 'Skills Covered'),\n",
       " ('VR Software Development', 'Skills Covered'),\n",
       " ('Swift for Beginners', 'School of Programming'),\n",
       " ('Swift for Developers', 'School of Programming'),\n",
       " ('AutoLayout', 'School of Programming'),\n",
       " ('Passwordless Login Solutions for iOS', 'School of Programming'),\n",
       " ('Server-Side Swift', 'School of Programming'),\n",
       " ('Mobile Design and Usability for iOS', 'School of Programming'),\n",
       " ('Core ML: Machine Learning for iOS', 'School of Programming'),\n",
       " ('Eigenvectors and Eigenvalues', 'School of Artificial Intelligence'),\n",
       " ('Asynchronous JavaScript Requests', 'School of Programming'),\n",
       " ('Intro to AJAX', 'School of Programming'),\n",
       " ('Learn ARKit using Unity', 'Skills Covered'),\n",
       " ('Learn ARKit using Swift', 'Skills Covered'),\n",
       " ('Introduction to Python Programming', 'School of Programming'),\n",
       " ('JavaScript and the DOM', 'School of Programming'),\n",
       " ('Introduction to Machine Learning Course',\n",
       "  'School of Artificial Intelligence'),\n",
       " ('Version Control with Git', 'School of Programming'),\n",
       " ('Introduction to Cybersecurity', 'School of Programming'),\n",
       " ('Database Systems Concepts & Design', 'School of Programming'),\n",
       " ('Intro to Point & Click App Development', 'School of Programming'),\n",
       " ('Compilers: Theory and Practice', 'School of Programming'),\n",
       " ('Embedded Systems', 'School of Programming'),\n",
       " ('Intro to Data Analysis', 'School of Data Science'),\n",
       " ('Intro to Backend', 'School of Programming'),\n",
       " ('Secure and Private AI', 'School of Artificial Intelligence'),\n",
       " ('Introduction to TensorFlow Lite', 'School of Artificial Intelligence'),\n",
       " ('Intro to TensorFlow for Deep Learning',\n",
       "  'School of Artificial Intelligence'),\n",
       " ('Intro to Deep Learning with PyTorch', 'School of Artificial Intelligence'),\n",
       " ('WeChat Mini Program Development', 'School of Programming'),\n",
       " ('Advanced Operating Systems', 'School of Programming'),\n",
       " ('Intro to Relational Databases', 'School of Programming'),\n",
       " ('SQL for Data Analysis', 'School of Data Science'),\n",
       " ('Network Security', 'School of Programming'),\n",
       " ('Intro to Inferential Statistics', 'School of Data Science'),\n",
       " ('Shell Workshop', 'School of Programming'),\n",
       " ('C++ For Programmers', 'School of Programming'),\n",
       " ('iOS Interview Prep', 'Career Advancement'),\n",
       " ('Android Interview Prep', 'Career Advancement'),\n",
       " ('Strengthen Your LinkedIn Network & Brand', 'Career Advancement'),\n",
       " ('Refresh Your Resume', 'Career Advancement'),\n",
       " ('Craft Your Cover Letter', 'Career Advancement'),\n",
       " ('Intro to jQuery', 'School of Programming'),\n",
       " ('Front-End Interview Prep', 'Career Advancement'),\n",
       " ('VR Interview Prep', 'Career Advancement'),\n",
       " ('Full-Stack Interview Prep', 'Career Advancement'),\n",
       " ('Networking for Web Developers', 'School of Programming'),\n",
       " ('A/B Testing', 'School of Artificial Intelligence'),\n",
       " ('Machine Learning', 'School of Artificial Intelligence'),\n",
       " ('Dynamic Web Applications with Sinatra', 'School of Programming'),\n",
       " ('The MVC Pattern in Ruby', 'School of Programming'),\n",
       " ('Deploying Applications with Heroku', 'School of Programming'),\n",
       " ('Cyber-Physical Systems Security', 'School of Programming'),\n",
       " ('High Performance Computing', 'School of Programming'),\n",
       " ('Java Programming Basics', 'School of Programming'),\n",
       " ('Object Oriented Programming in Java', 'School of Programming'),\n",
       " ('HTML5 Canvas', 'School of Programming'),\n",
       " ('Configuring Linux Web Servers', 'School of Programming'),\n",
       " ('HTTP & Web Servers', 'School of Programming'),\n",
       " ('iOS Persistence and Core Data', 'School of Programming'),\n",
       " ('Authentication & Authorization: OAuth', 'School of Programming'),\n",
       " ('Software Analysis & Testing', 'School of Programming'),\n",
       " ('Firebase Analytics: iOS', 'School of Programming'),\n",
       " ('Firebase Analytics: Android', 'School of Programming'),\n",
       " ('ES6 - JavaScript Improved', 'School of Programming'),\n",
       " ('Passwordless Login Solutions for Android', 'School of Programming'),\n",
       " ('Mobile Design and Usability for Android', 'School of Programming'),\n",
       " ('Intro to Data Science', 'School of Data Science'),\n",
       " ('Real-Time Analytics with Apache Storm',\n",
       "  'School of Artificial Intelligence'),\n",
       " ('Designing RESTful APIs', 'School of Programming'),\n",
       " ('Human-Computer Interaction', 'School of Programming'),\n",
       " ('Introduction to Graduate Algorithms', 'School of Programming'),\n",
       " ('Data Analysis and Visualization', 'School of Data Science'),\n",
       " ('2D Game Development with libGDX', 'School of Programming'),\n",
       " ('How to Make a Platformer Using libGDX', 'School of Programming'),\n",
       " ('Engagement & Monetization | Mobile Games', 'School of Programming'),\n",
       " ('Knowledge-Based AI: Cognitive Systems',\n",
       "  'School of Artificial Intelligence'),\n",
       " ('iOS Networking with Swift', 'School of Programming'),\n",
       " ('Computer Networking', 'School of Programming'),\n",
       " ('Intro to Information Security', 'School of Programming'),\n",
       " ('Machine Learning for Trading', 'School of Artificial Intelligence'),\n",
       " ('Data Visualization and D3.js', 'School of Artificial Intelligence'),\n",
       " ('Product Design', 'School of Business'),\n",
       " ('Intro to Data Structures and Algorithms', 'Career Advancement'),\n",
       " ('App Monetization', 'School of Business'),\n",
       " ('JavaScript Testing', 'School of Programming'),\n",
       " ('Grand Central Dispatch (GCD)', 'School of Programming'),\n",
       " ('Intro to iOS App Development with Swift', 'School of Programming'),\n",
       " ('Linux Command Line Basics', 'School of Programming'),\n",
       " ('Reinforcement Learning', 'School of Artificial Intelligence'),\n",
       " ('How to Make an iOS App', 'School of Programming'),\n",
       " ('Localization Essentials', 'School of Programming'),\n",
       " ('Intro to DevOps', 'School of Programming'),\n",
       " ('Scalable Microservices with Kubernetes', 'School of Programming'),\n",
       " ('Intro to Hadoop and MapReduce', 'School of Artificial Intelligence'),\n",
       " ('Data Analysis with R', 'School of Artificial Intelligence'),\n",
       " ('Object-Oriented JavaScript', 'School of Programming'),\n",
       " ('App Marketing', 'School of Business'),\n",
       " ('Rapid Prototyping', 'School of Business'),\n",
       " ('Machine Learning: Unsupervised Learning',\n",
       "  'School of Artificial Intelligence'),\n",
       " ('Big Data Analytics in Healthcare', 'School of Artificial Intelligence'),\n",
       " ('Xcode Debugging', 'School of Programming'),\n",
       " ('Writing READMEs', 'School of Programming'),\n",
       " ('UIKit Fundamentals', 'School of Programming'),\n",
       " ('Intro to JavaScript', 'School of Programming'),\n",
       " ('Software Development Process', 'School of Programming'),\n",
       " ('Get Your Startup Started', 'School of Business'),\n",
       " ('How to Install Android Studio', 'School of Programming'),\n",
       " ('Health Informatics in the Cloud', 'Skills Covered'),\n",
       " ('Introduction to Computer Vision', 'School of Artificial Intelligence'),\n",
       " ('Intro to Progressive Web Apps', 'School of Programming'),\n",
       " ('Software Architecture & Design', 'School of Programming'),\n",
       " ('Android Performance', 'School of Programming'),\n",
       " ('Intro to Descriptive Statistics', 'School of Artificial Intelligence'),\n",
       " ('Android Basics: User Interface', 'School of Programming'),\n",
       " ('Android Basics: User Input', 'School of Programming'),\n",
       " ('Android Basics: Multiscreen Apps', 'School of Programming'),\n",
       " ('Android Basics: Networking', 'School of Programming'),\n",
       " ('Android Basics: Data Storage', 'School of Programming'),\n",
       " ('UX Design for Mobile Developers', 'School of Programming'),\n",
       " ('Developing Android Apps', 'School of Programming'),\n",
       " ('Advanced Android App Development', 'School of Programming'),\n",
       " ('Browser Rendering Optimization', 'School of Programming'),\n",
       " ('Material Design for Android Developers', 'School of Programming'),\n",
       " ('Google Maps APIs', 'School of Programming'),\n",
       " ('Gradle for Android and Java', 'School of Programming'),\n",
       " ('Responsive Images', 'School of Programming'),\n",
       " ('Website Performance Optimization', 'School of Programming'),\n",
       " ('Kotlin for Android Developers', 'School of Programming'),\n",
       " ('Advanced Android with Kotlin', 'School of Programming'),\n",
       " ('Building High Conversion Web Forms', 'School of Programming'),\n",
       " ('Web Accessibility', 'School of Programming'),\n",
       " ('Web Tooling & Automation', 'School of Programming'),\n",
       " ('Responsive Web Design Fundamentals', 'School of Programming'),\n",
       " ('Front End Frameworks', 'School of Programming'),\n",
       " ('Client-Server Communication', 'School of Programming'),\n",
       " ('JavaScript Promises', 'School of Programming'),\n",
       " ('Offline Web Applications', 'School of Programming'),\n",
       " ('Kotlin Bootcamp for Programmers', 'School of Programming'),\n",
       " ('Developing Android Apps with Kotlin', 'School of Programming'),\n",
       " ('Learn Swift Programming Syntax', 'School of Programming'),\n",
       " ('Build Native Mobile Apps with Flutter', 'School of Programming'),\n",
       " ('Educational Technology', 'Skills Covered'),\n",
       " ('Model Building and Validation', 'School of Artificial Intelligence'),\n",
       " ('Introduction to Operating Systems', 'School of Programming'),\n",
       " ('Data Science Interview Prep', 'Career Advancement'),\n",
       " ('Linear Algebra Refresher Course', 'School of Artificial Intelligence'),\n",
       " ('Artificial Intelligence', 'School of Artificial Intelligence'),\n",
       " ('Computational Photography', 'Skills Covered'),\n",
       " ('Problem Solving with Advanced Analytics', 'School of Business'),\n",
       " ('Creating an Analytical Dataset', 'School of Business'),\n",
       " ('Classification Models', 'School of Business'),\n",
       " ('A/B Testing for Business Analysts', 'School of Business'),\n",
       " ('Time Series Forecasting', 'School of Business'),\n",
       " ('Segmentation and Clustering', 'School of Business'),\n",
       " ('Cyber-Physical Systems Design & Analysis', 'School of Autonomous Systems'),\n",
       " ('JavaScript Design Patterns', 'School of Programming'),\n",
       " ('What is Programming?', 'School of Programming')]"
      ]
     },
     "execution_count": 26,
     "metadata": {},
     "output_type": "execute_result"
    }
   ],
   "source": [
    "courses"
   ]
  },
  {
   "cell_type": "code",
   "execution_count": 27,
   "metadata": {},
   "outputs": [
    {
     "name": "stdout",
     "output_type": "stream",
     "text": [
      "234 course summaries found. Sample:\n"
     ]
    },
    {
     "data": {
      "text/plain": [
       "[('UX Designer', 'School of Business'),\n",
       " ('Data Streaming', 'School of Data Science'),\n",
       " ('Front End Web Developer', 'School of Programming'),\n",
       " ('Full Stack Web Developer', 'School of Programming'),\n",
       " ('Java Developer', 'School of Programming'),\n",
       " ('AI Product Manager', 'School of Artificial Intelligence'),\n",
       " ('Sensor Fusion Engineer', 'School of Autonomous Systems'),\n",
       " ('Data Visualization', 'School of Data Science'),\n",
       " ('Cloud Developer', 'School of Cloud Computing'),\n",
       " ('Cloud DevOps Engineer', 'School of Cloud Computing'),\n",
       " ('Intro to Machine Learning', 'School of Artificial Intelligence'),\n",
       " ('C++', 'School of Autonomous Systems'),\n",
       " ('Data Structures and Algorithms', 'School of Programming'),\n",
       " ('Programming for Data Science with R', 'School of Data Science'),\n",
       " ('Data Engineer', 'School of Data Science'),\n",
       " ('Marketing Analytics', 'School of Business'),\n",
       " ('Introduction to Programming', 'School of Programming'),\n",
       " ('Data Analyst', 'School of Data Science'),\n",
       " ('iOS Developer', 'School of Programming'),\n",
       " ('Predictive Analytics for Business', 'School of Business')]"
      ]
     },
     "execution_count": 27,
     "metadata": {},
     "output_type": "execute_result"
    }
   ],
   "source": [
    "# display results\n",
    "print(len(courses), \"course summaries found. Sample:\")\n",
    "courses[:20]"
   ]
  },
  {
   "cell_type": "code",
   "execution_count": null,
   "metadata": {},
   "outputs": [],
   "source": []
  }
 ],
 "metadata": {
  "kernelspec": {
   "display_name": "Python 3",
   "language": "python",
   "name": "python3"
  },
  "language_info": {
   "codemirror_mode": {
    "name": "ipython",
    "version": 3
   },
   "file_extension": ".py",
   "mimetype": "text/x-python",
   "name": "python",
   "nbconvert_exporter": "python",
   "pygments_lexer": "ipython3",
   "version": "3.6.3"
  }
 },
 "nbformat": 4,
 "nbformat_minor": 2
}
